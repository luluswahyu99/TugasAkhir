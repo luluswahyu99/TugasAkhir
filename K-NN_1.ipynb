{
 "cells": [
  {
   "cell_type": "code",
   "execution_count": 1,
   "id": "7eb75731-84c0-436c-a94c-4fc02a3a61a3",
   "metadata": {},
   "outputs": [],
   "source": [
    "import smote_variants as sv\n",
    "import pandas  as pd\n",
    "import matplotlib.pyplot as plt\n",
    "import numpy as np\n",
    "import imbalanced_databases as imbd\n",
    "from sklearn import metrics\n",
    "from sklearn.datasets import load_wine\n",
    "from sklearn.metrics import roc_curve, auc, roc_auc_score\n",
    "from sklearn.metrics import confusion_matrix\n",
    "from sklearn import metrics\n",
    "from sklearn.metrics import plot_roc_curve\n",
    "from imblearn.over_sampling import SMOTE\n",
    "\n",
    "%matplotlib inline\n",
    "from sklearn.model_selection import train_test_split"
   ]
  },
  {
   "cell_type": "code",
   "execution_count": 2,
   "id": "1f41b14d-5b6a-415d-b5d7-f85fc564f6ed",
   "metadata": {},
   "outputs": [
    {
     "data": {
      "text/html": [
       "<div>\n",
       "<style scoped>\n",
       "    .dataframe tbody tr th:only-of-type {\n",
       "        vertical-align: middle;\n",
       "    }\n",
       "\n",
       "    .dataframe tbody tr th {\n",
       "        vertical-align: top;\n",
       "    }\n",
       "\n",
       "    .dataframe thead th {\n",
       "        text-align: right;\n",
       "    }\n",
       "</style>\n",
       "<table border=\"1\" class=\"dataframe\">\n",
       "  <thead>\n",
       "    <tr style=\"text-align: right;\">\n",
       "      <th></th>\n",
       "      <th>timestamp</th>\n",
       "      <th>src_ip</th>\n",
       "      <th>dst_ip</th>\n",
       "      <th>protocol</th>\n",
       "      <th>ttl</th>\n",
       "      <th>ip_len</th>\n",
       "      <th>ip_flag_df</th>\n",
       "      <th>ip_flag_mf</th>\n",
       "      <th>ip_flag_rb</th>\n",
       "      <th>src_port</th>\n",
       "      <th>...</th>\n",
       "      <th>mqtt_messagetype</th>\n",
       "      <th>mqtt_messagelength</th>\n",
       "      <th>mqtt_flag_uname</th>\n",
       "      <th>mqtt_flag_passwd</th>\n",
       "      <th>mqtt_flag_retain</th>\n",
       "      <th>mqtt_flag_qos</th>\n",
       "      <th>mqtt_flag_willflag</th>\n",
       "      <th>mqtt_flag_clean</th>\n",
       "      <th>mqtt_flag_reserved</th>\n",
       "      <th>is_attack</th>\n",
       "    </tr>\n",
       "  </thead>\n",
       "  <tbody>\n",
       "    <tr>\n",
       "      <th>0</th>\n",
       "      <td>2/2/2022 16:42</td>\n",
       "      <td>192168114</td>\n",
       "      <td>1.921681e+09</td>\n",
       "      <td>6</td>\n",
       "      <td>40</td>\n",
       "      <td>0</td>\n",
       "      <td>1.0</td>\n",
       "      <td>0.0</td>\n",
       "      <td>0.0</td>\n",
       "      <td>60129</td>\n",
       "      <td>...</td>\n",
       "      <td>NaN</td>\n",
       "      <td>NaN</td>\n",
       "      <td>NaN</td>\n",
       "      <td>NaN</td>\n",
       "      <td>NaN</td>\n",
       "      <td>NaN</td>\n",
       "      <td>NaN</td>\n",
       "      <td>NaN</td>\n",
       "      <td>NaN</td>\n",
       "      <td>0</td>\n",
       "    </tr>\n",
       "    <tr>\n",
       "      <th>1</th>\n",
       "      <td>2/2/2022 16:42</td>\n",
       "      <td>192168114</td>\n",
       "      <td>1.921681e+09</td>\n",
       "      <td>6</td>\n",
       "      <td>64</td>\n",
       "      <td>40</td>\n",
       "      <td>1.0</td>\n",
       "      <td>0.0</td>\n",
       "      <td>0.0</td>\n",
       "      <td>60130</td>\n",
       "      <td>...</td>\n",
       "      <td>NaN</td>\n",
       "      <td>NaN</td>\n",
       "      <td>NaN</td>\n",
       "      <td>NaN</td>\n",
       "      <td>NaN</td>\n",
       "      <td>NaN</td>\n",
       "      <td>NaN</td>\n",
       "      <td>NaN</td>\n",
       "      <td>NaN</td>\n",
       "      <td>1</td>\n",
       "    </tr>\n",
       "    <tr>\n",
       "      <th>2</th>\n",
       "      <td>2/2/2022 16:42</td>\n",
       "      <td>192168114</td>\n",
       "      <td>1.921681e+09</td>\n",
       "      <td>6</td>\n",
       "      <td>64</td>\n",
       "      <td>40</td>\n",
       "      <td>1.0</td>\n",
       "      <td>0.0</td>\n",
       "      <td>0.0</td>\n",
       "      <td>60131</td>\n",
       "      <td>...</td>\n",
       "      <td>NaN</td>\n",
       "      <td>NaN</td>\n",
       "      <td>NaN</td>\n",
       "      <td>NaN</td>\n",
       "      <td>NaN</td>\n",
       "      <td>NaN</td>\n",
       "      <td>NaN</td>\n",
       "      <td>NaN</td>\n",
       "      <td>NaN</td>\n",
       "      <td>1</td>\n",
       "    </tr>\n",
       "    <tr>\n",
       "      <th>3</th>\n",
       "      <td>2/2/2022 16:42</td>\n",
       "      <td>192168114</td>\n",
       "      <td>1.921681e+09</td>\n",
       "      <td>6</td>\n",
       "      <td>64</td>\n",
       "      <td>40</td>\n",
       "      <td>1.0</td>\n",
       "      <td>0.0</td>\n",
       "      <td>0.0</td>\n",
       "      <td>60132</td>\n",
       "      <td>...</td>\n",
       "      <td>NaN</td>\n",
       "      <td>NaN</td>\n",
       "      <td>NaN</td>\n",
       "      <td>NaN</td>\n",
       "      <td>NaN</td>\n",
       "      <td>NaN</td>\n",
       "      <td>NaN</td>\n",
       "      <td>NaN</td>\n",
       "      <td>NaN</td>\n",
       "      <td>1</td>\n",
       "    </tr>\n",
       "    <tr>\n",
       "      <th>4</th>\n",
       "      <td>2/2/2022 16:42</td>\n",
       "      <td>192168114</td>\n",
       "      <td>1.921681e+09</td>\n",
       "      <td>6</td>\n",
       "      <td>64</td>\n",
       "      <td>40</td>\n",
       "      <td>1.0</td>\n",
       "      <td>0.0</td>\n",
       "      <td>0.0</td>\n",
       "      <td>60133</td>\n",
       "      <td>...</td>\n",
       "      <td>NaN</td>\n",
       "      <td>NaN</td>\n",
       "      <td>NaN</td>\n",
       "      <td>NaN</td>\n",
       "      <td>NaN</td>\n",
       "      <td>NaN</td>\n",
       "      <td>NaN</td>\n",
       "      <td>NaN</td>\n",
       "      <td>NaN</td>\n",
       "      <td>1</td>\n",
       "    </tr>\n",
       "  </tbody>\n",
       "</table>\n",
       "<p>5 rows × 31 columns</p>\n",
       "</div>"
      ],
      "text/plain": [
       "        timestamp     src_ip        dst_ip  protocol  ttl  ip_len  ip_flag_df  \\\n",
       "0  2/2/2022 16:42  192168114  1.921681e+09         6   40       0         1.0   \n",
       "1  2/2/2022 16:42  192168114  1.921681e+09         6   64      40         1.0   \n",
       "2  2/2/2022 16:42  192168114  1.921681e+09         6   64      40         1.0   \n",
       "3  2/2/2022 16:42  192168114  1.921681e+09         6   64      40         1.0   \n",
       "4  2/2/2022 16:42  192168114  1.921681e+09         6   64      40         1.0   \n",
       "\n",
       "   ip_flag_mf  ip_flag_rb  src_port  ...  mqtt_messagetype  \\\n",
       "0         0.0         0.0     60129  ...               NaN   \n",
       "1         0.0         0.0     60130  ...               NaN   \n",
       "2         0.0         0.0     60131  ...               NaN   \n",
       "3         0.0         0.0     60132  ...               NaN   \n",
       "4         0.0         0.0     60133  ...               NaN   \n",
       "\n",
       "   mqtt_messagelength  mqtt_flag_uname  mqtt_flag_passwd  mqtt_flag_retain  \\\n",
       "0                 NaN              NaN               NaN               NaN   \n",
       "1                 NaN              NaN               NaN               NaN   \n",
       "2                 NaN              NaN               NaN               NaN   \n",
       "3                 NaN              NaN               NaN               NaN   \n",
       "4                 NaN              NaN               NaN               NaN   \n",
       "\n",
       "   mqtt_flag_qos  mqtt_flag_willflag  mqtt_flag_clean  mqtt_flag_reserved  \\\n",
       "0            NaN                 NaN              NaN                 NaN   \n",
       "1            NaN                 NaN              NaN                 NaN   \n",
       "2            NaN                 NaN              NaN                 NaN   \n",
       "3            NaN                 NaN              NaN                 NaN   \n",
       "4            NaN                 NaN              NaN                 NaN   \n",
       "\n",
       "   is_attack  \n",
       "0          0  \n",
       "1          1  \n",
       "2          1  \n",
       "3          1  \n",
       "4          1  \n",
       "\n",
       "[5 rows x 31 columns]"
      ]
     },
     "execution_count": 2,
     "metadata": {},
     "output_type": "execute_result"
    }
   ],
   "source": [
    "df = pd.read_csv('./dataset_final_fix.csv')\n",
    "df.head()"
   ]
  },
  {
   "cell_type": "code",
   "execution_count": 3,
   "id": "38d875d2-65f7-4c07-b899-7b732c75b85d",
   "metadata": {},
   "outputs": [],
   "source": [
    "df_attack = df[df['is_attack'] == 1]\n",
    "df_normal = df[df['is_attack'] == 0]"
   ]
  },
  {
   "cell_type": "code",
   "execution_count": 4,
   "id": "27fb15c6-2999-4018-90a9-85855358a7ce",
   "metadata": {},
   "outputs": [
    {
     "data": {
      "text/html": [
       "<div>\n",
       "<style scoped>\n",
       "    .dataframe tbody tr th:only-of-type {\n",
       "        vertical-align: middle;\n",
       "    }\n",
       "\n",
       "    .dataframe tbody tr th {\n",
       "        vertical-align: top;\n",
       "    }\n",
       "\n",
       "    .dataframe thead th {\n",
       "        text-align: right;\n",
       "    }\n",
       "</style>\n",
       "<table border=\"1\" class=\"dataframe\">\n",
       "  <thead>\n",
       "    <tr style=\"text-align: right;\">\n",
       "      <th></th>\n",
       "      <th>ttl</th>\n",
       "      <th>ip_len</th>\n",
       "      <th>ip_flag_df</th>\n",
       "      <th>ip_flag_mf</th>\n",
       "      <th>ip_flag_rb</th>\n",
       "      <th>src_port</th>\n",
       "      <th>dst_port</th>\n",
       "      <th>tcp_flag_res</th>\n",
       "      <th>tcp_flag_ns</th>\n",
       "      <th>tcp_flag_cwr</th>\n",
       "      <th>...</th>\n",
       "      <th>mqtt_messagetype</th>\n",
       "      <th>mqtt_messagelength</th>\n",
       "      <th>mqtt_flag_uname</th>\n",
       "      <th>mqtt_flag_passwd</th>\n",
       "      <th>mqtt_flag_retain</th>\n",
       "      <th>mqtt_flag_qos</th>\n",
       "      <th>mqtt_flag_willflag</th>\n",
       "      <th>mqtt_flag_clean</th>\n",
       "      <th>mqtt_flag_reserved</th>\n",
       "      <th>is_attack</th>\n",
       "    </tr>\n",
       "  </thead>\n",
       "  <tbody>\n",
       "    <tr>\n",
       "      <th>0</th>\n",
       "      <td>40</td>\n",
       "      <td>0</td>\n",
       "      <td>1.0</td>\n",
       "      <td>0.0</td>\n",
       "      <td>0.0</td>\n",
       "      <td>60129</td>\n",
       "      <td>1883</td>\n",
       "      <td>0.0</td>\n",
       "      <td>0.0</td>\n",
       "      <td>0.0</td>\n",
       "      <td>...</td>\n",
       "      <td>0.333333</td>\n",
       "      <td>0.0</td>\n",
       "      <td>0.0</td>\n",
       "      <td>0.0</td>\n",
       "      <td>0.0</td>\n",
       "      <td>0.0</td>\n",
       "      <td>0.0</td>\n",
       "      <td>0.0</td>\n",
       "      <td>0.0</td>\n",
       "      <td>0</td>\n",
       "    </tr>\n",
       "    <tr>\n",
       "      <th>1</th>\n",
       "      <td>64</td>\n",
       "      <td>40</td>\n",
       "      <td>1.0</td>\n",
       "      <td>0.0</td>\n",
       "      <td>0.0</td>\n",
       "      <td>60130</td>\n",
       "      <td>1883</td>\n",
       "      <td>0.0</td>\n",
       "      <td>0.0</td>\n",
       "      <td>0.0</td>\n",
       "      <td>...</td>\n",
       "      <td>0.333333</td>\n",
       "      <td>0.0</td>\n",
       "      <td>0.0</td>\n",
       "      <td>0.0</td>\n",
       "      <td>0.0</td>\n",
       "      <td>0.0</td>\n",
       "      <td>0.0</td>\n",
       "      <td>0.0</td>\n",
       "      <td>0.0</td>\n",
       "      <td>1</td>\n",
       "    </tr>\n",
       "    <tr>\n",
       "      <th>2</th>\n",
       "      <td>64</td>\n",
       "      <td>40</td>\n",
       "      <td>1.0</td>\n",
       "      <td>0.0</td>\n",
       "      <td>0.0</td>\n",
       "      <td>60131</td>\n",
       "      <td>1883</td>\n",
       "      <td>0.0</td>\n",
       "      <td>0.0</td>\n",
       "      <td>0.0</td>\n",
       "      <td>...</td>\n",
       "      <td>0.333333</td>\n",
       "      <td>0.0</td>\n",
       "      <td>0.0</td>\n",
       "      <td>0.0</td>\n",
       "      <td>0.0</td>\n",
       "      <td>0.0</td>\n",
       "      <td>0.0</td>\n",
       "      <td>0.0</td>\n",
       "      <td>0.0</td>\n",
       "      <td>1</td>\n",
       "    </tr>\n",
       "    <tr>\n",
       "      <th>3</th>\n",
       "      <td>64</td>\n",
       "      <td>40</td>\n",
       "      <td>1.0</td>\n",
       "      <td>0.0</td>\n",
       "      <td>0.0</td>\n",
       "      <td>60132</td>\n",
       "      <td>1883</td>\n",
       "      <td>0.0</td>\n",
       "      <td>0.0</td>\n",
       "      <td>0.0</td>\n",
       "      <td>...</td>\n",
       "      <td>0.333333</td>\n",
       "      <td>0.0</td>\n",
       "      <td>0.0</td>\n",
       "      <td>0.0</td>\n",
       "      <td>0.0</td>\n",
       "      <td>0.0</td>\n",
       "      <td>0.0</td>\n",
       "      <td>0.0</td>\n",
       "      <td>0.0</td>\n",
       "      <td>1</td>\n",
       "    </tr>\n",
       "    <tr>\n",
       "      <th>4</th>\n",
       "      <td>64</td>\n",
       "      <td>40</td>\n",
       "      <td>1.0</td>\n",
       "      <td>0.0</td>\n",
       "      <td>0.0</td>\n",
       "      <td>60133</td>\n",
       "      <td>1883</td>\n",
       "      <td>0.0</td>\n",
       "      <td>0.0</td>\n",
       "      <td>0.0</td>\n",
       "      <td>...</td>\n",
       "      <td>0.333333</td>\n",
       "      <td>0.0</td>\n",
       "      <td>0.0</td>\n",
       "      <td>0.0</td>\n",
       "      <td>0.0</td>\n",
       "      <td>0.0</td>\n",
       "      <td>0.0</td>\n",
       "      <td>0.0</td>\n",
       "      <td>0.0</td>\n",
       "      <td>1</td>\n",
       "    </tr>\n",
       "  </tbody>\n",
       "</table>\n",
       "<p>5 rows × 27 columns</p>\n",
       "</div>"
      ],
      "text/plain": [
       "   ttl  ip_len  ip_flag_df  ip_flag_mf  ip_flag_rb  src_port  dst_port  \\\n",
       "0   40       0         1.0         0.0         0.0     60129      1883   \n",
       "1   64      40         1.0         0.0         0.0     60130      1883   \n",
       "2   64      40         1.0         0.0         0.0     60131      1883   \n",
       "3   64      40         1.0         0.0         0.0     60132      1883   \n",
       "4   64      40         1.0         0.0         0.0     60133      1883   \n",
       "\n",
       "   tcp_flag_res  tcp_flag_ns  tcp_flag_cwr  ...  mqtt_messagetype  \\\n",
       "0           0.0          0.0           0.0  ...          0.333333   \n",
       "1           0.0          0.0           0.0  ...          0.333333   \n",
       "2           0.0          0.0           0.0  ...          0.333333   \n",
       "3           0.0          0.0           0.0  ...          0.333333   \n",
       "4           0.0          0.0           0.0  ...          0.333333   \n",
       "\n",
       "   mqtt_messagelength  mqtt_flag_uname  mqtt_flag_passwd  mqtt_flag_retain  \\\n",
       "0                 0.0              0.0               0.0               0.0   \n",
       "1                 0.0              0.0               0.0               0.0   \n",
       "2                 0.0              0.0               0.0               0.0   \n",
       "3                 0.0              0.0               0.0               0.0   \n",
       "4                 0.0              0.0               0.0               0.0   \n",
       "\n",
       "   mqtt_flag_qos  mqtt_flag_willflag  mqtt_flag_clean  mqtt_flag_reserved  \\\n",
       "0            0.0                 0.0              0.0                 0.0   \n",
       "1            0.0                 0.0              0.0                 0.0   \n",
       "2            0.0                 0.0              0.0                 0.0   \n",
       "3            0.0                 0.0              0.0                 0.0   \n",
       "4            0.0                 0.0              0.0                 0.0   \n",
       "\n",
       "   is_attack  \n",
       "0          0  \n",
       "1          1  \n",
       "2          1  \n",
       "3          1  \n",
       "4          1  \n",
       "\n",
       "[5 rows x 27 columns]"
      ]
     },
     "execution_count": 4,
     "metadata": {},
     "output_type": "execute_result"
    }
   ],
   "source": [
    "df['ttl'] = df['ttl'].fillna(df['ttl'].std())\n",
    "df['ip_len'] = df['ip_len'].fillna(df['ip_len'].std())\n",
    "df['ip_flag_df'] = df['ip_flag_df'].fillna(df['ip_flag_df'].std())\n",
    "df['ip_flag_mf'] = df['ip_flag_mf'].fillna(df['ip_flag_mf'].std())\n",
    "df['ip_flag_rb'] = df['ip_flag_rb'].fillna(df['ip_flag_rb'].std())\n",
    "df['src_port'] = df['src_port'].fillna(df['src_port'].std())\n",
    "df['dst_port'] = df['dst_port'].fillna(df['dst_port'].std())\n",
    "df['tcp_flag_res'] = df['tcp_flag_res'].fillna(df['tcp_flag_res'].std())\n",
    "df['tcp_flag_ns'] = df['tcp_flag_ns'].fillna(df['tcp_flag_ns'].std())\n",
    "df['tcp_flag_cwr'] = df['tcp_flag_cwr'].fillna(df['tcp_flag_cwr'].std())\n",
    "df['tcp_flag_ecn'] = df['tcp_flag_ecn'].fillna(df['tcp_flag_ecn'].std())\n",
    "df['tcp_flag_urg'] = df['tcp_flag_urg'].fillna(df['tcp_flag_urg'].std())\n",
    "df['tcp_flag_ack'] = df['tcp_flag_ack'].fillna(df['tcp_flag_ack'].std())\n",
    "df['tcp_flag_push'] = df['tcp_flag_push'].fillna(df['tcp_flag_push'].std())\n",
    "df['tcp_flag_reset'] = df['tcp_flag_reset'].fillna(df['tcp_flag_reset'].std())\n",
    "df['tcp_flag_syn'] = df['tcp_flag_syn'].fillna(df['tcp_flag_syn'].std())\n",
    "df['tcp_flag_fin'] = df['tcp_flag_fin'].fillna(df['tcp_flag_fin'].std())\n",
    "df['mqtt_messagetype'] = df['mqtt_messagetype'].fillna(df['mqtt_messagetype'].std())\n",
    "df['mqtt_messagelength'] = df['mqtt_messagelength'].fillna(df['mqtt_messagelength'].std())\n",
    "df['mqtt_flag_uname'] = df['mqtt_flag_uname'].fillna(df['mqtt_flag_uname'].std())\n",
    "df['mqtt_flag_passwd'] = df['mqtt_flag_passwd'].fillna(df['mqtt_flag_passwd'].std())\n",
    "df['mqtt_flag_retain'] = df['mqtt_flag_retain'].fillna(df['mqtt_flag_retain'].std())\n",
    "df['mqtt_flag_qos'] = df['mqtt_flag_qos'].fillna(df['mqtt_flag_qos'].std())\n",
    "df['mqtt_flag_willflag'] = df['mqtt_flag_willflag'].fillna(df['mqtt_flag_willflag'].std())\n",
    "df['mqtt_flag_clean'] = df['mqtt_flag_clean'].fillna(df['mqtt_flag_clean'].std())\n",
    "df['mqtt_flag_reserved'] = df['mqtt_flag_reserved'].fillna(df['mqtt_flag_reserved'].std())\n",
    "\n",
    "df = df.drop(['timestamp','src_ip','dst_ip','protocol' ], axis = 1)\n",
    "df.head()"
   ]
  },
  {
   "cell_type": "code",
   "execution_count": 5,
   "id": "494c7c1e-5257-4fd9-9465-2e3c07e563cd",
   "metadata": {},
   "outputs": [
    {
     "data": {
      "text/plain": [
       "0    48174\n",
       "1    42157\n",
       "Name: is_attack, dtype: int64"
      ]
     },
     "execution_count": 5,
     "metadata": {},
     "output_type": "execute_result"
    },
    {
     "data": {
      "image/png": "[encoded data removed]",
      "text/plain": [
       "<Figure size 432x288 with 1 Axes>"
      ]
     },
     "metadata": {
      "needs_background": "light"
     },
     "output_type": "display_data"
    }
   ],
   "source": [
    "pd.value_counts(df['is_attack']).plot.bar()\n",
    "plt.title('Attack histogram')\n",
    "plt.xlabel('attack')\n",
    "plt.ylabel('Value')\n",
    "df['is_attack'].value_counts()"
   ]
  },
  {
   "cell_type": "code",
   "execution_count": 6,
   "id": "6b536708-3e41-4e50-a007-eced86a5db49",
   "metadata": {},
   "outputs": [],
   "source": [
    "# Used to plot the roc curve.\n",
    "def plot_roc_curve(fpr, tpr):\n",
    "    plt.plot(fpr, tpr, color='orange', label='ROC')\n",
    "    plt.plot([0, 1], [0, 1], color='darkblue', linestyle='--')\n",
    "    plt.xlabel('False Positive Rate')\n",
    "    plt.ylabel('True Positive Rate')\n",
    "    plt.title('Receiver Operating Characteristic (ROC) Curve')\n",
    "    plt.legend()\n",
    "    plt.show()\n",
    "    \n",
    "# Used for classification of dataset.\n",
    "def classif_results(): \n",
    "  conf_mat = confusion_matrix(y_true=y_test, y_pred=y_pred)\n",
    "  print('Confusion matrix:\\n', conf_mat)\n",
    "\n",
    "  labels = ['Class 0', 'Class 1']\n",
    "  fig = plt.figure()\n",
    "  ax = fig.add_subplot(111)\n",
    "  cax = ax.matshow(conf_mat, cmap=plt.cm.Blues)\n",
    "  fig.colorbar(cax)\n",
    "  ax.set_xticklabels([''] + labels)\n",
    "  ax.set_yticklabels([''] + labels)\n",
    "  plt.xlabel('Predicted')\n",
    "  plt.ylabel('Expected')\n",
    "  plt.show()\n",
    "\n",
    "  print(\"Accuracy\", metrics.accuracy_score(y_test, y_pred))\n",
    "\n",
    "  from sklearn.metrics import classification_report\n",
    "  print(classification_report(y_test, y_pred))\n",
    "\n",
    "  auc = roc_auc_score(y_test, y_pred)\n",
    "  print(\"AUC Score: \")\n",
    "  print(auc)\n",
    "\n",
    "  fpr, tpr, thresholds = roc_curve(y_test, y_pred)\n",
    "  plot_roc_curve(fpr, tpr)\n",
    "\n",
    "# Used for splitting and normalizing dataset.\n",
    "def test_scale():\n",
    "  from sklearn.model_selection import train_test_split\n",
    "  X_train, X_test, y_train, y_test = train_test_split(X, y, test_size = 0.25, random_state = 1)\n",
    "\n",
    "  from sklearn.preprocessing import StandardScaler\n",
    "  sc_X = StandardScaler()\n",
    "  X_train = sc_X.fit_transform(X_train)\n",
    "  X_test = sc_X.transform(X_test)"
   ]
  },
  {
   "cell_type": "code",
   "execution_count": 7,
   "id": "c83e16a7-0cfc-458c-afa5-165c0006f808",
   "metadata": {},
   "outputs": [],
   "source": [
    "X = df.iloc[:, df.columns != 'is_attack']\n",
    "y = df.iloc[:, df.columns == 'is_attack']\n",
    "X, y = SMOTE().fit_resample(X, y)\n",
    "\n",
    "from sklearn.model_selection import train_test_split\n",
    "X_train, X_test, y_train, y_test = train_test_split(X, y, test_size = 0.25, random_state = 1)\n",
    "\n",
    "from sklearn.preprocessing import StandardScaler\n",
    "sc_X = StandardScaler()\n",
    "X_train = sc_X.fit_transform(X_train)\n",
    "X_test = sc_X.transform(X_test)"
   ]
  },
  {
   "cell_type": "code",
   "execution_count": 10,
   "id": "72c30ffa-54d1-4e1e-83cd-51d71181af70",
   "metadata": {},
   "outputs": [
    {
     "name": "stderr",
     "output_type": "stream",
     "text": [
      "C:\\Users\\Adit\\anaconda3\\envs\\test\\lib\\site-packages\\sklearn\\neighbors\\_classification.py:198: DataConversionWarning: A column-vector y was passed when a 1d array was expected. Please change the shape of y to (n_samples,), for example using ravel().\n",
      "  return self._fit(X, y)\n"
     ]
    }
   ],
   "source": [
    "from sklearn.neighbors import KNeighborsClassifier\n",
    "\n",
    "knn_clf = KNeighborsClassifier(n_neighbors=13)\n",
    "knn_clf.fit(X_train,y_train)\n",
    "\n",
    "y_pred = knn_clf.predict(X_test)"
   ]
  },
  {
   "cell_type": "code",
   "execution_count": 11,
   "id": "03b8a692-5e02-469c-876e-02da42dbe8a8",
   "metadata": {},
   "outputs": [
    {
     "name": "stderr",
     "output_type": "stream",
     "text": [
      "C:\\Users\\Adit\\anaconda3\\envs\\test\\lib\\site-packages\\sklearn\\neighbors\\_classification.py:198: DataConversionWarning: A column-vector y was passed when a 1d array was expected. Please change the shape of y to (n_samples,), for example using ravel().\n",
      "  return self._fit(X, y)\n"
     ]
    },
    {
     "data": {
      "text/plain": [
       "KNeighborsClassifier(n_neighbors=13)"
      ]
     },
     "execution_count": 11,
     "metadata": {},
     "output_type": "execute_result"
    }
   ],
   "source": [
    "knn_clf.fit(X_train, y_train)"
   ]
  },
  {
   "cell_type": "code",
   "execution_count": 13,
   "id": "3be9ad26-1f89-4567-aadb-fe7e34908f13",
   "metadata": {},
   "outputs": [
    {
     "data": {
      "text/plain": [
       "array([0, 1, 0, ..., 1, 0, 0], dtype=int64)"
      ]
     },
     "execution_count": 13,
     "metadata": {},
     "output_type": "execute_result"
    }
   ],
   "source": [
    "y_pred = knn_clf.predict(X_test)\n",
    "y_pred"
   ]
  },
  {
   "cell_type": "code",
   "execution_count": 14,
   "id": "e694f955-109f-4461-8d1b-cd7735220ff8",
   "metadata": {},
   "outputs": [
    {
     "name": "stdout",
     "output_type": "stream",
     "text": [
      "Confusion matrix:\n",
      " [[12003     0]\n",
      " [    1 12083]]\n"
     ]
    },
    {
     "name": "stderr",
     "output_type": "stream",
     "text": [
      "C:\\Users\\Adit\\AppData\\Local\\Temp/ipykernel_1564/333998070.py:21: UserWarning: FixedFormatter should only be used together with FixedLocator\n",
      "  ax.set_xticklabels([''] + labels)\n",
      "C:\\Users\\Adit\\AppData\\Local\\Temp/ipykernel_1564/333998070.py:22: UserWarning: FixedFormatter should only be used together with FixedLocator\n",
      "  ax.set_yticklabels([''] + labels)\n"
     ]
    },
    {
     "data": {
      "image/png": "[encoded data removed]",
      "text/plain": [
       "<Figure size 432x288 with 2 Axes>"
      ]
     },
     "metadata": {
      "needs_background": "light"
     },
     "output_type": "display_data"
    },
    {
     "name": "stdout",
     "output_type": "stream",
     "text": [
      "Accuracy 0.9999584838294515\n",
      "              precision    recall  f1-score   support\n",
      "\n",
      "           0       1.00      1.00      1.00     12003\n",
      "           1       1.00      1.00      1.00     12084\n",
      "\n",
      "    accuracy                           1.00     24087\n",
      "   macro avg       1.00      1.00      1.00     24087\n",
      "weighted avg       1.00      1.00      1.00     24087\n",
      "\n",
      "AUC Score: \n",
      "0.9999586229725257\n"
     ]
    },
    {
     "data": {
      "image/png": "[encoded data removed]",
      "text/plain": [
       "<Figure size 432x288 with 1 Axes>"
      ]
     },
     "metadata": {
      "needs_background": "light"
     },
     "output_type": "display_data"
    }
   ],
   "source": [
    "classif_results()"
   ]
  },
  {
   "cell_type": "code",
   "execution_count": 15,
   "id": "409decd6-9769-4978-a54f-6b9b484a358c",
   "metadata": {},
   "outputs": [
    {
     "name": "stdout",
     "output_type": "stream",
     "text": [
      "akurasi : 1.0\n",
      "presisi : 1.0\n",
      "recall : 1.0\n",
      "f1_score : 1.0\n"
     ]
    }
   ],
   "source": [
    "from sklearn.metrics import accuracy_score\n",
    "from sklearn.metrics import precision_score\n",
    "from sklearn.metrics import recall_score\n",
    "\n",
    "akurasi = round(accuracy_score(y_test,y_pred),3)\n",
    "print('akurasi :',akurasi)\n",
    "precision = round(precision_score(y_test,y_pred),3)\n",
    "print('presisi :',precision)\n",
    "recal = round(recall_score(y_test,y_pred),3)\n",
    "print('recall :',recal)\n",
    "f1_score = 2 * precision * recal / (precision+recal)\n",
    "print('f1_score :', f1_score)"
   ]
  },
  {
   "cell_type": "code",
   "execution_count": 17,
   "id": "7bfb4d8a-bc72-44c2-accd-2148128662df",
   "metadata": {},
   "outputs": [
    {
     "data": {
      "image/png": "[encoded data removed]",
      "text/plain": [
       "<Figure size 792x360 with 2 Axes>"
      ]
     },
     "metadata": {
      "needs_background": "light"
     },
     "output_type": "display_data"
    }
   ],
   "source": [
    "from jcopml.plot import plot_confusion_matrix\n",
    "\n",
    "plot_confusion_matrix(X_train, y_train, X_test, y_test, knn_clf)"
   ]
  },
  {
   "cell_type": "code",
   "execution_count": null,
   "id": "5d3c290f-8091-4587-a2b7-cc71c9ed4201",
   "metadata": {},
   "outputs": [],
   "source": []
  }
 ],
 "metadata": {
  "kernelspec": {
   "display_name": "Python 3 (ipykernel)",
   "language": "python",
   "name": "python3"
  },
  "language_info": {
   "codemirror_mode": {
    "name": "ipython",
    "version": 3
   },
   "file_extension": ".py",
   "mimetype": "text/x-python",
   "name": "python",
   "nbconvert_exporter": "python",
   "pygments_lexer": "ipython3",
   "version": "3.8.12"
  }
 },
 "nbformat": 4,
 "nbformat_minor": 5
}
